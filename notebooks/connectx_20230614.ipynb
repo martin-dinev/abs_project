{
 "cells": [
  {
   "cell_type": "code",
   "execution_count": 1,
   "metadata": {
    "pycharm": {
     "name": ""
    },
    "ExecuteTime": {
     "end_time": "2023-06-14T15:42:39.811051700Z",
     "start_time": "2023-06-14T15:42:35.992050400Z"
    }
   },
   "outputs": [
    {
     "name": "stdout",
     "output_type": "stream",
     "text": [
      "Loading environment lux_ai_s2 failed: No module named 'pettingzoo'\n"
     ]
    }
   ],
   "source": [
    "import os\n",
    "\n",
    "os.environ['TF_CPP_MIN_LOG_LEVEL'] = '2'\n",
    "import logging\n",
    "\n",
    "logging.getLogger(\"tensorflow\").setLevel(logging.ERROR)  # this goes *before* tf import\n",
    "\n",
    "import numpy as np\n",
    "from tensorflow.keras.layers import Input, Dense, Conv2D, MaxPool2D, Reshape\n",
    "from tensorflow.keras.models import Model\n",
    "from tensorflow.keras.optimizers import Adam\n",
    "from tensorflow.keras.losses import MeanSquaredError, MSE\n",
    "\n",
    "import tensorflow as tf\n",
    "\n",
    "os.environ['AUTOGRAPH_VERBOSITY'] = '1'\n",
    "tf.autograph.set_verbosity(0)\n",
    "\n",
    "from tqdm import tqdm\n",
    "\n",
    "from kaggle_environments import make\n",
    "from deep_q_learning import DQN\n",
    "from my_utils import my_train, my_evaluate, mean_reward"
   ]
  },
  {
   "cell_type": "code",
   "execution_count": 2,
   "outputs": [],
   "source": [
    "env = make(\"connectx\", debug=False)\n",
    "\n",
    "state_space_shape = (6, 7)\n",
    "num_actions = 7\n",
    "num_episodes = 1000\n",
    "learning_rate = 0.01\n",
    "discount_factor = 0.975\n",
    "batch_size = 128\n",
    "memory_size = 2048\n",
    "\n",
    "epsilon = 1\n",
    "epsilon_min = 0.01\n",
    "epsilon_decay = 1.25 * (epsilon - epsilon_min) / num_episodes"
   ],
   "metadata": {
    "collapsed": false,
    "ExecuteTime": {
     "end_time": "2023-06-14T15:42:39.872051600Z",
     "start_time": "2023-06-14T15:42:39.814051600Z"
    }
   }
  },
  {
   "cell_type": "code",
   "execution_count": 3,
   "outputs": [],
   "source": [
    "from tensorflow.python.keras.layers import Conv2D\n",
    "\n",
    "\n",
    "def build_model():\n",
    "    i = Input(shape=state_space_shape)\n",
    "    r = Reshape(target_shape=(6, 7, 1))(i)\n",
    "\n",
    "    cv = Conv2D(16, kernel_size=(2, 1))(r)\n",
    "    cv = Conv2D(16, kernel_size=(3, 1))(cv)\n",
    "    cv = Conv2D(1, kernel_size=(3, 1))(cv)\n",
    "    cv = Reshape(target_shape=(7,))(cv)\n",
    "    cv = Dense(7)(cv)\n",
    "\n",
    "    ch = Conv2D(16, kernel_size=(2, 1))(r)\n",
    "    ch = Conv2D(16, kernel_size=(3, 7))(ch)\n",
    "    ch = Conv2D(16, kernel_size=(3, 1))(ch)\n",
    "    ch = Reshape(target_shape=(16,))(ch)\n",
    "    ch = Dense(7)(ch)\n",
    "\n",
    "    cd = Conv2D(7, kernel_size=(2, 3))(r)\n",
    "    cd = Conv2D(7, kernel_size=(3, 3))(cd)\n",
    "    cd = Conv2D(7, kernel_size=(3, 3))(cd)\n",
    "    cd = Reshape(target_shape=(7,))(cd)\n",
    "    cd = Dense(7)(cd)\n",
    "\n",
    "    l = cv + ch + cd\n",
    "    l = Dense(7)(l)\n",
    "    l = Dense(7)(l)\n",
    "\n",
    "    m = Model(inputs=i, outputs=l)\n",
    "    m.compile(Adam(learning_rate=learning_rate), loss=MeanSquaredError())\n",
    "\n",
    "    return m"
   ],
   "metadata": {
    "collapsed": false,
    "ExecuteTime": {
     "end_time": "2023-06-14T15:42:39.883051600Z",
     "start_time": "2023-06-14T15:42:39.865073900Z"
    }
   }
  },
  {
   "cell_type": "code",
   "execution_count": 4,
   "outputs": [],
   "source": [
    "model = build_model()\n",
    "target_model = build_model()\n",
    "agent = DQN(state_space_shape, num_actions, model, target_model, learning_rate, discount_factor, batch_size,\n",
    "            memory_size)"
   ],
   "metadata": {
    "collapsed": false,
    "ExecuteTime": {
     "end_time": "2023-06-14T15:42:40.239050900Z",
     "start_time": "2023-06-14T15:42:39.875050600Z"
    }
   }
  },
  {
   "cell_type": "code",
   "execution_count": 5,
   "outputs": [],
   "source": [
    "def process_state(_state):\n",
    "    return np.asarray(_state.board).reshape((6, 7))\n",
    "\n",
    "\n",
    "def preprocess_reward(_reward):\n",
    "    return (4 if _reward == 1 else 1 if _reward == 0 else -1) if _reward is not None else -4\n",
    "\n",
    "\n",
    "def postprocess_action(_action):\n",
    "    return round(_action)"
   ],
   "metadata": {
    "collapsed": false,
    "ExecuteTime": {
     "end_time": "2023-06-14T15:42:40.255051700Z",
     "start_time": "2023-06-14T15:42:40.242067100Z"
    }
   }
  },
  {
   "cell_type": "code",
   "execution_count": null,
   "outputs": [],
   "source": [
    "configuration = {\n",
    "    \"num_episodes\": 1000,\n",
    "    \"process_state\": process_state, \"process_reward\": preprocess_reward, \"process_action\": postprocess_action,\n",
    "    \"epsilon\": epsilon, \"epsilon_decay\": epsilon_decay, \"epsilon_min\": epsilon_min,\n",
    "    \"save_iter\": 100, \"save_name\": \"connectx-conv\", \"prev_count\": 0\n",
    "}\n",
    "\n",
    "my_train(agent, opponent=\"negamax\", **configuration)"
   ],
   "metadata": {
    "collapsed": false
   }
  },
  {
   "cell_type": "code",
   "execution_count": null,
   "outputs": [],
   "source": [
    "agent.save('connectx-conv', 1000)"
   ],
   "metadata": {
    "collapsed": false
   }
  },
  {
   "cell_type": "code",
   "execution_count": null,
   "outputs": [],
   "source": [
    "agent.load('connectx-conv', 1000)"
   ],
   "metadata": {
    "collapsed": false
   }
  },
  {
   "cell_type": "code",
   "execution_count": 6,
   "outputs": [],
   "source": [
    "def my_agent(observation, _):\n",
    "    _state = process_state(observation)\n",
    "    _action = agent.get_action(_state, 0)\n",
    "    _action = postprocess_action(_action)\n",
    "    return _action\n",
    "\n",
    "\n",
    "def fixed_agent(observation, _):\n",
    "    return 3"
   ],
   "metadata": {
    "collapsed": false,
    "ExecuteTime": {
     "end_time": "2023-06-14T15:42:45.004664Z",
     "start_time": "2023-06-14T15:42:44.983664300Z"
    }
   }
  },
  {
   "cell_type": "code",
   "execution_count": null,
   "outputs": [],
   "source": [
    "print(\"Random Agent vs Negamax Agent:\", mean_reward(my_evaluate(\"connectx\", [\"random\", \"negamax\"])))\n",
    "print(\"Fixed Agent vs Random Agent:\", mean_reward(my_evaluate(\"connectx\", [fixed_agent, \"random\"])))\n",
    "print(\"Fixed Agent vs Negamax Agent:\", mean_reward(my_evaluate(\"connectx\", [fixed_agent, \"negamax\"])))"
   ],
   "metadata": {
    "collapsed": false
   }
  },
  {
   "cell_type": "code",
   "execution_count": 9,
   "outputs": [
    {
     "name": "stderr",
     "output_type": "stream",
     "text": [
      "100%|██████████| 100/100 [00:38<00:00,  2.61it/s]\n"
     ]
    },
    {
     "name": "stdout",
     "output_type": "stream",
     "text": [
      "My Agent vs Random Agent: W: 60; L: 14; M: 26; O: 0\n"
     ]
    },
    {
     "name": "stderr",
     "output_type": "stream",
     "text": [
      "100%|██████████| 100/100 [02:01<00:00,  1.21s/it]\n"
     ]
    },
    {
     "name": "stdout",
     "output_type": "stream",
     "text": [
      "My Agent vs Negamax Agent: W: 0; L: 43; M: 57; O: 0\n"
     ]
    },
    {
     "name": "stderr",
     "output_type": "stream",
     "text": [
      "100%|██████████| 100/100 [00:21<00:00,  4.65it/s]"
     ]
    },
    {
     "name": "stdout",
     "output_type": "stream",
     "text": [
      "My Agent vs Fixed Agent W: 100; L: 0; M: 0; O: 0\n"
     ]
    },
    {
     "name": "stderr",
     "output_type": "stream",
     "text": [
      "\n"
     ]
    }
   ],
   "source": [
    "print(\"My Agent vs Random Agent:\", mean_reward(my_evaluate(\"connectx\", [my_agent, \"random\"])))\n",
    "print(\"My Agent vs Negamax Agent:\", mean_reward(my_evaluate(\"connectx\", [my_agent, \"negamax\"])))\n",
    "print(\"My Agent vs Fixed Agent\", mean_reward(my_evaluate(\"connectx\", [my_agent, fixed_agent])))"
   ],
   "metadata": {
    "collapsed": false,
    "ExecuteTime": {
     "end_time": "2023-06-14T14:56:28.978688100Z",
     "start_time": "2023-06-14T14:53:27.743936500Z"
    }
   }
  },
  {
   "cell_type": "code",
   "execution_count": 7,
   "outputs": [
    {
     "name": "stderr",
     "output_type": "stream",
     "text": [
      " 48%|████▊     | 475/1000 [08:23<07:57,  1.10it/s]"
     ]
    }
   ],
   "source": [
    "agent.load('connectx-conv', 1000)\n",
    "\n",
    "configuration = {\n",
    "    \"num_episodes\": 1000,\n",
    "    \"process_state\": process_state, \"process_reward\": preprocess_reward, \"process_action\": postprocess_action,\n",
    "    \"epsilon\": epsilon, \"epsilon_decay\": epsilon_decay, \"epsilon_min\": epsilon_min,\n",
    "    \"save_iter\": 250, \"save_name\": \"connectx-conv\", \"prev_count\": 1000\n",
    "}\n",
    "\n",
    "my_train(agent, opponent=\"negamax\", **configuration)\n",
    "\n",
    "print(\"My Agent vs Random Agent:\", mean_reward(my_evaluate(\"connectx\", [my_agent, \"random\"])))\n",
    "print(\"My Agent vs Negamax Agent:\", mean_reward(my_evaluate(\"connectx\", [my_agent, \"negamax\"])))\n",
    "print(\"My Agent vs Fixed Agent\", mean_reward(my_evaluate(\"connectx\", [my_agent, fixed_agent])))"
   ],
   "metadata": {
    "collapsed": false,
    "ExecuteTime": {
     "end_time": "2023-06-14T15:37:36.229632500Z",
     "start_time": "2023-06-14T15:18:41.076340200Z"
    }
   }
  },
  {
   "cell_type": "code",
   "execution_count": 7,
   "outputs": [
    {
     "name": "stderr",
     "output_type": "stream",
     "text": [
      "100%|██████████| 100/100 [00:24<00:00,  4.11it/s]\n"
     ]
    },
    {
     "name": "stdout",
     "output_type": "stream",
     "text": [
      "My Agent vs Random Agent: W: 75; L: 1; M: 24; O: 0\n"
     ]
    },
    {
     "name": "stderr",
     "output_type": "stream",
     "text": [
      "100%|██████████| 100/100 [01:16<00:00,  1.30it/s]\n"
     ]
    },
    {
     "name": "stdout",
     "output_type": "stream",
     "text": [
      "My Agent vs Negamax Agent: W: 0; L: 9; M: 91; O: 0\n"
     ]
    },
    {
     "name": "stderr",
     "output_type": "stream",
     "text": [
      "100%|██████████| 100/100 [00:21<00:00,  4.65it/s]"
     ]
    },
    {
     "name": "stdout",
     "output_type": "stream",
     "text": [
      "My Agent vs Fixed Agent W: 100; L: 0; M: 0; O: 0\n"
     ]
    },
    {
     "name": "stderr",
     "output_type": "stream",
     "text": [
      "\n"
     ]
    }
   ],
   "source": [
    "agent.load(\"connectx-conv\", 2000)\n",
    "print(\"My Agent vs Random Agent:\", mean_reward(my_evaluate(\"connectx\", [my_agent, \"random\"])))\n",
    "print(\"My Agent vs Negamax Agent:\", mean_reward(my_evaluate(\"connectx\", [my_agent, \"negamax\"])))\n",
    "print(\"My Agent vs Fixed Agent\", mean_reward(my_evaluate(\"connectx\", [my_agent, fixed_agent])))"
   ],
   "metadata": {
    "collapsed": false,
    "ExecuteTime": {
     "end_time": "2023-06-14T15:44:58.028157200Z",
     "start_time": "2023-06-14T15:42:55.416378200Z"
    }
   }
  },
  {
   "cell_type": "code",
   "execution_count": null,
   "outputs": [],
   "source": [],
   "metadata": {
    "collapsed": false
   }
  },
  {
   "cell_type": "code",
   "execution_count": null,
   "outputs": [],
   "source": [],
   "metadata": {
    "collapsed": false
   }
  }
 ],
 "metadata": {
  "kernelspec": {
   "display_name": "Python 3 (ipykernel)",
   "language": "python",
   "name": "python3"
  },
  "language_info": {
   "codemirror_mode": {
    "name": "ipython",
    "version": 3
   },
   "file_extension": ".py",
   "mimetype": "text/x-python",
   "name": "python",
   "nbconvert_exporter": "python",
   "pygments_lexer": "ipython3",
   "version": "3.10.9"
  }
 },
 "nbformat": 4,
 "nbformat_minor": 1
}
