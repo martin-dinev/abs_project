{
 "cells": [
  {
   "cell_type": "code",
   "execution_count": 4,
   "outputs": [],
   "source": [
    "from agents import Agent2\n",
    "\n",
    "agent2 = Agent2(state_space_shape=(6, 7), num_actions=7, learning_rate=0.01, discount_factor=0.975, memory_size=2048,\n",
    "                batch_size=128, save_name=\"connectx-agent2\")"
   ],
   "metadata": {
    "collapsed": false,
    "ExecuteTime": {
     "end_time": "2023-06-27T15:14:27.894924400Z",
     "start_time": "2023-06-27T15:14:27.638151700Z"
    }
   }
  },
  {
   "cell_type": "code",
   "execution_count": 3,
   "outputs": [
    {
     "data": {
      "text/plain": "  0%|          | 0/100 [00:00<?, ?it/s]",
      "application/vnd.jupyter.widget-view+json": {
       "version_major": 2,
       "version_minor": 0,
       "model_id": "b69c7e13a20c4e76bb2c3cb5b043e50c"
      }
     },
     "metadata": {},
     "output_type": "display_data"
    }
   ],
   "source": [
    "agent2.my_train(opponent=\"negamax\", num_episodes=100, prev_count=3100, epsilon=\"default\", update_target_steps=250, save_iter=500)"
   ],
   "metadata": {
    "collapsed": false,
    "ExecuteTime": {
     "end_time": "2023-06-23T09:04:44.897163800Z",
     "start_time": "2023-06-23T09:02:39.256169600Z"
    }
   }
  },
  {
   "cell_type": "code",
   "execution_count": 2,
   "outputs": [
    {
     "name": "stderr",
     "output_type": "stream",
     "text": [
      "100%|██████████| 2000/2000 [33:56<00:00,  1.02s/it]\n"
     ]
    }
   ],
   "source": [
    "agent2.my_train_parallel(opponent=\"negamax\", num_episodes=2000, prev_count=\"max\", epsilon=\"default\", update_target_steps=250, save_iter=500, trainers_count=150)"
   ],
   "metadata": {
    "collapsed": false,
    "ExecuteTime": {
     "end_time": "2023-06-23T10:25:24.982231900Z",
     "start_time": "2023-06-23T09:51:19.496131300Z"
    }
   }
  },
  {
   "cell_type": "code",
   "execution_count": 2,
   "outputs": [
    {
     "name": "stderr",
     "output_type": "stream",
     "text": [
      "100%|██████████| 200/200 [03:25<00:00,  1.03s/it]\n"
     ]
    }
   ],
   "source": [
    "agent2.my_train_parallel(opponent=\"negamax\", num_episodes=200, epsilon=\"default\", update_target_steps=250, trainers_count=10)"
   ],
   "metadata": {
    "collapsed": false,
    "ExecuteTime": {
     "end_time": "2023-06-23T10:40:01.297547400Z",
     "start_time": "2023-06-23T10:36:34.609919800Z"
    }
   }
  },
  {
   "cell_type": "code",
   "execution_count": 2,
   "outputs": [],
   "source": [
    "from my_utils import my_evaluate_parallel"
   ],
   "metadata": {
    "collapsed": false,
    "ExecuteTime": {
     "end_time": "2023-06-23T10:43:41.534201700Z",
     "start_time": "2023-06-23T10:43:41.525072300Z"
    }
   }
  },
  {
   "cell_type": "code",
   "execution_count": 3,
   "outputs": [
    {
     "data": {
      "text/plain": "  0%|          | 0/100 [00:00<?, ?it/s]",
      "application/vnd.jupyter.widget-view+json": {
       "version_major": 2,
       "version_minor": 0,
       "model_id": "6faca4522ba84c4e9b3400f72798d693"
      }
     },
     "metadata": {},
     "output_type": "display_data"
    },
    {
     "name": "stdout",
     "output_type": "stream",
     "text": [
      "connectx-agent2 vs negamax: W: 11; L: 79; M: 10; O: 0  time: 98.01047968864441\n"
     ]
    },
    {
     "data": {
      "text/plain": "  0%|          | 0/100 [00:00<?, ?it/s]",
      "application/vnd.jupyter.widget-view+json": {
       "version_major": 2,
       "version_minor": 0,
       "model_id": "a103aeaa8dce4a408063b0282ba12421"
      }
     },
     "metadata": {},
     "output_type": "display_data"
    },
    {
     "name": "stdout",
     "output_type": "stream",
     "text": [
      "connectx-agent2 vs random: W: 85; L: 14; M: 1; O: 0  time: 11.000309228897095\n"
     ]
    },
    {
     "data": {
      "text/plain": "  0%|          | 0/100 [00:00<?, ?it/s]",
      "application/vnd.jupyter.widget-view+json": {
       "version_major": 2,
       "version_minor": 0,
       "model_id": "31653700794b4f04b35ad7540751e5c5"
      }
     },
     "metadata": {},
     "output_type": "display_data"
    },
    {
     "name": "stdout",
     "output_type": "stream",
     "text": [
      "connectx-agent2 vs fixed: W: 0; L: 0; M: 0; O: 100  time: 10.10913872718811\n"
     ]
    }
   ],
   "source": [
    "agent2.my_test_parallel(\"negamax\")\n",
    "agent2.my_test_parallel(\"random\")\n",
    "agent2.my_test_parallel(\"fixed\", opponent_agent=lambda _, __: 3)"
   ],
   "metadata": {
    "collapsed": false,
    "ExecuteTime": {
     "end_time": "2023-06-27T15:10:08.096177700Z",
     "start_time": "2023-06-27T15:08:08.869184300Z"
    }
   }
  },
  {
   "cell_type": "code",
   "execution_count": null,
   "outputs": [],
   "source": [],
   "metadata": {
    "collapsed": false
   }
  }
 ],
 "metadata": {
  "kernelspec": {
   "display_name": "Python 3 (ipykernel)",
   "language": "python",
   "name": "python3"
  },
  "language_info": {
   "codemirror_mode": {
    "name": "ipython",
    "version": 3
   },
   "file_extension": ".py",
   "mimetype": "text/x-python",
   "name": "python",
   "nbconvert_exporter": "python",
   "pygments_lexer": "ipython3",
   "version": "3.10.9"
  }
 },
 "nbformat": 4,
 "nbformat_minor": 1
}
