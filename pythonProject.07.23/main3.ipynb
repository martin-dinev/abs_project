{
 "cells": [
  {
   "cell_type": "code",
   "execution_count": 2,
   "metadata": {
    "ExecuteTime": {
     "end_time": "2023-07-06T11:29:05.050186200Z",
     "start_time": "2023-07-06T11:29:05.039096600Z"
    }
   },
   "outputs": [],
   "source": [
    "from kaggle_environments import make\n",
    "from keras import Model\n",
    "from keras.optimizers import Adam\n",
    "from rl.agents.dqn import DQNAgent\n",
    "from rl.policy import EpsGreedyQPolicy\n",
    "from rl.memory import SequentialMemory\n",
    "from rl.processors import Processor\n",
    "from keras.layers import Dense, Dropout, Input, Reshape\n",
    "import numpy as np"
   ]
  },
  {
   "cell_type": "code",
   "execution_count": 3,
   "metadata": {
    "ExecuteTime": {
     "end_time": "2023-07-06T11:29:05.939839800Z",
     "start_time": "2023-07-06T11:29:05.929320300Z"
    }
   },
   "outputs": [],
   "source": [
    "class ConnectXProcessor(Processor):\n",
    "    def process_observation(self, observation):\n",
    "        return np.array(observation['board'])\n",
    "\n",
    "    def process_state_batch(self, batch):\n",
    "        return batch\n",
    "\n",
    "    def process_reward(self, _reward):\n",
    "        return (3 if _reward == 1 else -0.1 if _reward == 0 else -7) if _reward is not None else -21\n",
    "\n",
    "    def process_action(self, action):\n",
    "        return int(action)"
   ]
  },
  {
   "cell_type": "code",
   "execution_count": 4,
   "metadata": {
    "ExecuteTime": {
     "end_time": "2023-07-06T11:29:07.225441300Z",
     "start_time": "2023-07-06T11:29:06.920119800Z"
    }
   },
   "outputs": [],
   "source": [
    "i = Input(shape=(1, 42))\n",
    "x = Reshape((42,))(i)\n",
    "x = Dense(42, activation='leaky_relu')(x)\n",
    "x = Dropout(0.1)(x)\n",
    "x = Dense(42, activation='leaky_relu')(x)\n",
    "x = Dropout(0.1)(x)\n",
    "x = Dense(42, activation='leaky_relu')(x)\n",
    "x = Dropout(0.1)(x)\n",
    "x = Dense(42, activation='leaky_relu')(x)\n",
    "x = Dropout(0.1)(x)\n",
    "x = Dense(42, activation='leaky_relu')(x)\n",
    "x = Dropout(0.1)(x)\n",
    "x = Dense(24, activation='linear')(x)\n",
    "o = Dense(7, activation='leaky_relu')(x)\n",
    "model = Model(inputs=i, outputs=o)"
   ]
  },
  {
   "cell_type": "code",
   "execution_count": 5,
   "metadata": {
    "ExecuteTime": {
     "end_time": "2023-07-06T11:29:08.916920100Z",
     "start_time": "2023-07-06T11:29:08.053973Z"
    }
   },
   "outputs": [],
   "source": [
    "policy = EpsGreedyQPolicy(0.15)\n",
    "processor = ConnectXProcessor()\n",
    "memory = SequentialMemory(limit=50000, window_length=1)\n",
    "agent = DQNAgent(model=model, policy=policy, memory=memory, nb_actions=7, nb_steps_warmup=100, target_model_update=1e-2,\n",
    "                 processor=processor, enable_double_dqn=True, enable_dueling_network=True)\n",
    "agent.compile(optimizer=Adam(), metrics=['mae'])\n",
    "# agent.load_weights('dqn_weights_23.h5f')"
   ]
  },
  {
   "cell_type": "code",
   "execution_count": 6,
   "metadata": {
    "ExecuteTime": {
     "end_time": "2023-07-06T11:30:05.009828500Z",
     "start_time": "2023-07-06T11:30:04.850031Z"
    }
   },
   "outputs": [],
   "source": [
    "save_name = \"dqn_weights_dd2\"\n",
    "agent.load_weights(f'{save_name}_{5}.h5f')\n",
    "def kaggle_agent(observation, _):\n",
    "    return processor.process_action(np.argmax(agent.forward(processor.process_observation(observation))))"
   ]
  },
  {
   "cell_type": "code",
   "execution_count": 8,
   "metadata": {
    "ExecuteTime": {
     "end_time": "2023-07-06T11:32:26.576471800Z",
     "start_time": "2023-07-06T11:31:42.252121400Z"
    }
   },
   "outputs": [
    {
     "data": {
      "text/plain": "[[None, 0],\n [None, 0],\n [None, 0],\n [None, 0],\n [None, 0],\n [-1, 1],\n [None, 0],\n [-1, 1],\n [None, 0],\n [None, 0],\n [None, 0],\n [None, 0],\n [None, 0],\n [-1, 1],\n [-1, 1],\n [None, 0],\n [None, 0],\n [None, 0],\n [None, 0],\n [None, 0],\n [-1, 1],\n [None, 0],\n [None, 0],\n [-1, 1],\n [None, 0],\n [-1, 1],\n [None, 0],\n [None, 0],\n [-1, 1],\n [-1, 1],\n [None, 0],\n [-1, 1],\n [None, 0],\n [-1, 1],\n [-1, 1],\n [None, 0],\n [None, 0],\n [None, 0],\n [None, 0],\n [None, 0],\n [None, 0],\n [None, 0],\n [-1, 1],\n [None, 0],\n [None, 0],\n [-1, 1],\n [-1, 1],\n [None, 0],\n [None, 0],\n [-1, 1],\n [-1, 1],\n [-1, 1],\n [None, 0],\n [None, 0],\n [None, 0],\n [None, 0],\n [-1, 1],\n [None, 0],\n [None, 0],\n [-1, 1],\n [None, 0],\n [None, 0],\n [None, 0],\n [-1, 1],\n [-1, 1],\n [-1, 1],\n [-1, 1],\n [None, 0],\n [-1, 1],\n [None, 0],\n [None, 0],\n [-1, 1],\n [None, 0],\n [None, 0],\n [-1, 1],\n [None, 0],\n [None, 0],\n [None, 0],\n [-1, 1],\n [None, 0],\n [-1, 1],\n [None, 0],\n [None, 0],\n [-1, 1],\n [None, 0],\n [-1, 1],\n [None, 0],\n [-1, 1],\n [None, 0],\n [None, 0],\n [None, 0],\n [None, 0],\n [None, 0],\n [-1, 1],\n [None, 0],\n [None, 0],\n [-1, 1],\n [None, 0],\n [None, 0],\n [-1, 1]]"
     },
     "execution_count": 8,
     "metadata": {},
     "output_type": "execute_result"
    }
   ],
   "source": [
    "from kaggle_environments import evaluate\n",
    "env = make(\"connectx\", debug=True)\n",
    "evaluate(\"connectx\", [kaggle_agent, \"negamax\"], num_episodes=100)\n",
    "# env.play([kaggle_agent, None], width=500, height=450, fps=10)\n",
    "# env.render(mode=\"ipython\", width=500, height=450)"
   ]
  },
  {
   "cell_type": "code",
   "execution_count": null,
   "outputs": [],
   "source": [],
   "metadata": {
    "collapsed": false
   }
  }
 ],
 "metadata": {
  "kernelspec": {
   "display_name": "Python 3 (ipykernel)",
   "language": "python",
   "name": "python3"
  },
  "language_info": {
   "codemirror_mode": {
    "name": "ipython",
    "version": 3
   },
   "file_extension": ".py",
   "mimetype": "text/x-python",
   "name": "python",
   "nbconvert_exporter": "python",
   "pygments_lexer": "ipython3",
   "version": "3.10.9"
  }
 },
 "nbformat": 4,
 "nbformat_minor": 1
}
